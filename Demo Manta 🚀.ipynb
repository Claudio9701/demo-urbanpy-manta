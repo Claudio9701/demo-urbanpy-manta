{
 "cells": [
  {
   "cell_type": "code",
   "execution_count": null,
   "id": "indonesian-generator",
   "metadata": {},
   "outputs": [],
   "source": [
    "import urbanpy as up\n",
    "import pandas as pd\n",
    "import matplotlib.pyplot as plt\n",
    "import plotly.express as px\n",
    "from tqdm.auto import tqdm"
   ]
  },
  {
   "cell_type": "code",
   "execution_count": null,
   "id": "limiting-flooring",
   "metadata": {},
   "outputs": [],
   "source": [
    "tqdm.pandas()"
   ]
  },
  {
   "cell_type": "code",
   "execution_count": null,
   "id": "statewide-leather",
   "metadata": {},
   "outputs": [],
   "source": [
    "manta_limits = up.download.nominatim_osm('Manta, Ecuador', 1)\n",
    "manta_limits.plot()"
   ]
  },
  {
   "cell_type": "code",
   "execution_count": null,
   "id": "useful-liabilities",
   "metadata": {},
   "outputs": [],
   "source": [
    "manta_hexs = up.geom.gen_hexagons(9, manta_limits)"
   ]
  },
  {
   "cell_type": "code",
   "execution_count": null,
   "id": "acting-negative",
   "metadata": {},
   "outputs": [],
   "source": [
    "manta_hexs.plot(cmap='viridis')"
   ]
  },
  {
   "cell_type": "code",
   "execution_count": null,
   "id": "preliminary-bryan",
   "metadata": {},
   "outputs": [],
   "source": [
    "manta_hexs.shape"
   ]
  },
  {
   "cell_type": "code",
   "execution_count": null,
   "id": "third-closing",
   "metadata": {},
   "outputs": [],
   "source": [
    "ecuador_pop = up.download.hdx_fb_population('ecuador', 'full')"
   ]
  },
  {
   "cell_type": "code",
   "execution_count": null,
   "id": "cloudy-phenomenon",
   "metadata": {},
   "outputs": [],
   "source": [
    "ecuador_pop_elderly = up.download.hdx_fb_population('ecuador', 'elderly')"
   ]
  },
  {
   "cell_type": "code",
   "execution_count": null,
   "id": "severe-effort",
   "metadata": {},
   "outputs": [],
   "source": [
    "ecuador_pop.head()"
   ]
  },
  {
   "cell_type": "code",
   "execution_count": null,
   "id": "prepared-report",
   "metadata": {},
   "outputs": [],
   "source": []
  },
  {
   "cell_type": "code",
   "execution_count": null,
   "id": "white-gather",
   "metadata": {},
   "outputs": [],
   "source": [
    "type(ecuador_pop)"
   ]
  },
  {
   "cell_type": "code",
   "execution_count": null,
   "id": "engaged-development",
   "metadata": {},
   "outputs": [],
   "source": [
    "plt.scatter(x=ecuador_pop.longitude, y=ecuador_pop.latitude)"
   ]
  },
  {
   "cell_type": "code",
   "execution_count": null,
   "id": "blank-surrey",
   "metadata": {},
   "outputs": [],
   "source": [
    "manta_pop = up.geom.filter_population(ecuador_pop, manta_limits)"
   ]
  },
  {
   "cell_type": "code",
   "execution_count": null,
   "id": "patent-turtle",
   "metadata": {},
   "outputs": [],
   "source": [
    "manta_pop_elderly = up.geom.filter_population(ecuador_pop_elderly,\n",
    "                                              manta_limits)"
   ]
  },
  {
   "cell_type": "code",
   "execution_count": null,
   "id": "selective-appeal",
   "metadata": {},
   "outputs": [],
   "source": [
    "type(manta_pop)"
   ]
  },
  {
   "cell_type": "code",
   "execution_count": null,
   "id": "virgin-cocktail",
   "metadata": {},
   "outputs": [],
   "source": [
    "manta_pop.head()"
   ]
  },
  {
   "cell_type": "code",
   "execution_count": null,
   "id": "comic-tattoo",
   "metadata": {},
   "outputs": [],
   "source": [
    "manta_pop.plot('population_2020')"
   ]
  },
  {
   "cell_type": "code",
   "execution_count": null,
   "id": "economic-theorem",
   "metadata": {},
   "outputs": [],
   "source": [
    "manta_hexs_pop = up.geom.merge_shape_hex(manta_hexs, manta_pop,\n",
    "                                         {'population_2020': 'sum'})"
   ]
  },
  {
   "cell_type": "code",
   "execution_count": null,
   "id": "rental-metallic",
   "metadata": {},
   "outputs": [],
   "source": [
    "manta_pop_elderly.head()"
   ]
  },
  {
   "cell_type": "code",
   "execution_count": null,
   "id": "sealed-river",
   "metadata": {},
   "outputs": [],
   "source": [
    "manta_hexs_pop_elderly = up.geom.merge_shape_hex(manta_hexs, \n",
    "                                                 manta_pop_elderly,\n",
    "                                                 {'population': 'sum'})"
   ]
  },
  {
   "cell_type": "code",
   "execution_count": null,
   "id": "lesbian-nitrogen",
   "metadata": {},
   "outputs": [],
   "source": [
    "manta_hexs_pop_elderly.head()"
   ]
  },
  {
   "cell_type": "code",
   "execution_count": null,
   "id": "likely-brother",
   "metadata": {},
   "outputs": [],
   "source": [
    "manta_hexs_pop.head()"
   ]
  },
  {
   "cell_type": "code",
   "execution_count": null,
   "id": "civil-lover",
   "metadata": {},
   "outputs": [],
   "source": [
    "manta_hexs_pop.plot('population_2020', legend=True)"
   ]
  },
  {
   "cell_type": "code",
   "execution_count": null,
   "id": "turkish-scroll",
   "metadata": {},
   "outputs": [],
   "source": [
    "manta_hexs_pop_elderly.plot('population', legend=True)"
   ]
  },
  {
   "cell_type": "code",
   "execution_count": null,
   "id": "contained-quick",
   "metadata": {},
   "outputs": [],
   "source": [
    "food_facilities = up.download.overpass_pois(bounds=manta_hexs.total_bounds, facilities='food')"
   ]
  },
  {
   "cell_type": "code",
   "execution_count": null,
   "id": "liable-interaction",
   "metadata": {},
   "outputs": [],
   "source": [
    "food_facilities.head()"
   ]
  },
  {
   "cell_type": "code",
   "execution_count": null,
   "id": "anonymous-resource",
   "metadata": {},
   "outputs": [],
   "source": [
    "ax = manta_limits.plot()\n",
    "food_facilities.plot(ax=ax, color='k')"
   ]
  },
  {
   "cell_type": "code",
   "execution_count": null,
   "id": "documented-miracle",
   "metadata": {},
   "outputs": [],
   "source": [
    "centroids = manta_hexs.centroid"
   ]
  },
  {
   "cell_type": "code",
   "execution_count": null,
   "id": "american-palestine",
   "metadata": {},
   "outputs": [],
   "source": [
    "manta_hexs['lon'] = centroids.x\n",
    "manta_hexs['lat'] = centroids.y"
   ]
  },
  {
   "cell_type": "code",
   "execution_count": null,
   "id": "directed-group",
   "metadata": {},
   "outputs": [],
   "source": [
    "dist, ind = up.utils.nn_search(food_facilities[['lat', 'lon']].values,\n",
    "                               manta_hexs[['lat', 'lon']].values)"
   ]
  },
  {
   "cell_type": "code",
   "execution_count": null,
   "id": "younger-shakespeare",
   "metadata": {},
   "outputs": [],
   "source": [
    "manta_hexs['dist_nn'] = dist "
   ]
  },
  {
   "cell_type": "code",
   "execution_count": null,
   "id": "natural-child",
   "metadata": {},
   "outputs": [],
   "source": [
    "manta_hexs['ind_nn'] = ind "
   ]
  },
  {
   "cell_type": "code",
   "execution_count": null,
   "id": "miniature-alliance",
   "metadata": {},
   "outputs": [],
   "source": [
    "manta_hexs.plot('dist_nn')"
   ]
  },
  {
   "cell_type": "markdown",
   "id": "consolidated-network",
   "metadata": {},
   "source": [
    "Asuminedo que la velocidad de una persona caminando es 5km/h"
   ]
  },
  {
   "cell_type": "code",
   "execution_count": null,
   "id": "fitting-damages",
   "metadata": {},
   "outputs": [],
   "source": [
    "# minutos que demoraria una persona caminando para ir al lugar de venta de alimentos + cercano\n",
    "manta_hexs['dur_nn'] = (manta_hexs['dist_nn'] / 5) * 60"
   ]
  },
  {
   "cell_type": "code",
   "execution_count": null,
   "id": "stylish-scheme",
   "metadata": {},
   "outputs": [],
   "source": [
    "cuts, labels = up.utils.create_duration_labels(manta_hexs['dur_nn'])"
   ]
  },
  {
   "cell_type": "code",
   "execution_count": null,
   "id": "informal-softball",
   "metadata": {},
   "outputs": [],
   "source": []
  },
  {
   "cell_type": "code",
   "execution_count": null,
   "id": "outstanding-tractor",
   "metadata": {},
   "outputs": [],
   "source": [
    "manta_hexs['dur_nn_bins'] = pd.cut(manta_hexs['dur_nn'], cuts, labels=labels)"
   ]
  },
  {
   "cell_type": "code",
   "execution_count": null,
   "id": "defensive-performance",
   "metadata": {},
   "outputs": [],
   "source": [
    "manta_hexs = manta_hexs.merge(manta_hexs_pop[['hex', 'population_2020']],\n",
    "                              left_on='hex', right_on='hex')"
   ]
  },
  {
   "cell_type": "code",
   "execution_count": null,
   "id": "boxed-consistency",
   "metadata": {},
   "outputs": [],
   "source": [
    "manta_hexs.query('population_2020 > 0').plot('dur_nn_bins', legend=True, cmap='viridis')"
   ]
  },
  {
   "cell_type": "code",
   "execution_count": null,
   "id": "limited-floating",
   "metadata": {},
   "outputs": [],
   "source": [
    "# start server\n",
    "up.routing.start_osrm_server('ecuador', 'south-america')"
   ]
  },
  {
   "cell_type": "code",
   "execution_count": null,
   "id": "unique-minute",
   "metadata": {},
   "outputs": [],
   "source": []
  },
  {
   "cell_type": "code",
   "execution_count": null,
   "id": "mighty-bangkok",
   "metadata": {},
   "outputs": [],
   "source": []
  },
  {
   "cell_type": "code",
   "execution_count": null,
   "id": "appropriate-window",
   "metadata": {},
   "outputs": [],
   "source": [
    "# Distancia y duración del viaje a pie\n",
    "distance_duration = manta_hexs.progress_apply(\n",
    "    lambda row: up.routing.osrm_route(\n",
    "        origin=row.geometry.centroid, \n",
    "        destination=food_facilities.iloc[row['ind_nn']]['geometry'],\n",
    "        profile='foot'\n",
    "    ),\n",
    "    result_type='expand',\n",
    "    axis=1,\n",
    ")"
   ]
  },
  {
   "cell_type": "code",
   "execution_count": null,
   "id": "smoking-stationery",
   "metadata": {},
   "outputs": [],
   "source": [
    "manta_hexs['distance_to_food_facility'] =  distance_duration[0] / 1000 # meters to km\n",
    "manta_hexs['duration_to_food_facility'] = distance_duration[1] / 60 # seconds to minutes"
   ]
  },
  {
   "cell_type": "code",
   "execution_count": null,
   "id": "international-bosnia",
   "metadata": {},
   "outputs": [],
   "source": [
    "fig = up.plotting.choropleth_map(manta_hexs, 'duration_to_food_facility')\n",
    "                                 \n",
    "\n",
    "fig.update_layout(\n",
    "    margin=dict(l=0, r=0, t=0, b=0),\n",
    ")\n",
    "\n",
    "fig.show()"
   ]
  },
  {
   "cell_type": "code",
   "execution_count": null,
   "id": "august-likelihood",
   "metadata": {},
   "outputs": [],
   "source": [
    "manta_hexs['duration_to_food_facility_bins'] = pd.cut(manta_hexs['duration_to_food_facility'], cuts, labels=labels)"
   ]
  },
  {
   "cell_type": "code",
   "execution_count": null,
   "id": "early-malta",
   "metadata": {},
   "outputs": [],
   "source": []
  },
  {
   "cell_type": "code",
   "execution_count": null,
   "id": "trying-yesterday",
   "metadata": {},
   "outputs": [],
   "source": [
    "fig = up.plotting.choropleth_map(\n",
    "    manta_hexs, 'duration_to_food_facility_bins',\n",
    "    title='Acceso a instalaciones de venta de alimento',\n",
    "    color_discrete_sequence=px.colors.sequential.Plasma_r, \n",
    "    category_orders={'duration_to_food_facility_bins': labels}, \n",
    ")\n",
    "\n",
    "fig.update_layout(\n",
    "    margin=dict(l=0, r=0, t=0, b=0),\n",
    ")\n",
    "\n",
    "fig.show()"
   ]
  },
  {
   "cell_type": "markdown",
   "id": "focused-gates",
   "metadata": {},
   "source": [
    "## Identificacion de zonas"
   ]
  },
  {
   "cell_type": "code",
   "execution_count": null,
   "id": "turkish-syndrome",
   "metadata": {},
   "outputs": [],
   "source": [
    "pop_filter = manta_hexs['population_2020'] > 300"
   ]
  },
  {
   "cell_type": "code",
   "execution_count": null,
   "id": "local-hacker",
   "metadata": {},
   "outputs": [],
   "source": [
    "dur_filter = manta_hexs['duration_to_food_facility'] > 30"
   ]
  },
  {
   "cell_type": "code",
   "execution_count": null,
   "id": "uniform-partner",
   "metadata": {},
   "outputs": [],
   "source": [
    "ax = manta_limits.plot()\n",
    "manta_hexs[pop_filter & dur_filter].plot(ax=ax, color='red', alpha=0.5)"
   ]
  },
  {
   "cell_type": "code",
   "execution_count": null,
   "id": "unusual-commitment",
   "metadata": {},
   "outputs": [],
   "source": []
  }
 ],
 "metadata": {
  "kernelspec": {
   "display_name": "Python 3",
   "language": "python",
   "name": "python3"
  },
  "language_info": {
   "codemirror_mode": {
    "name": "ipython",
    "version": 3
   },
   "file_extension": ".py",
   "mimetype": "text/x-python",
   "name": "python",
   "nbconvert_exporter": "python",
   "pygments_lexer": "ipython3",
   "version": "3.9.1"
  }
 },
 "nbformat": 4,
 "nbformat_minor": 5
}
